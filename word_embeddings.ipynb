{
  "nbformat": 4,
  "nbformat_minor": 0,
  "metadata": {
    "colab": {
      "name": "word_embeddings.ipynb",
      "provenance": []
    },
    "kernelspec": {
      "name": "python3",
      "display_name": "Python 3"
    }
  },
  "cells": [
    {
      "cell_type": "markdown",
      "metadata": {
        "id": "8XydCzQzVMix"
      },
      "source": [
        "By : Iván Alejandro García Amaya\n",
        " \n",
        "The following work is based on the pytorch tutorial:\n",
        "\n",
        "https://pytorch.org/tutorials/beginner/nlp/word_embeddings_tutorial.html\n",
        "\n",
        "Where it explains how to implement Word2vec.\n",
        "\n",
        "The tutorial is made by: Robert Guthrie [2]"
      ]
    },
    {
      "cell_type": "code",
      "metadata": {
        "id": "DMqme_7FUYYG"
      },
      "source": [
        "%matplotlib inline"
      ],
      "execution_count": 16,
      "outputs": []
    },
    {
      "cell_type": "markdown",
      "metadata": {
        "id": "N-4xehpbWJSB"
      },
      "source": [
        "As Xin Rong mentions the word2vec model have attracted a large\n",
        "amount of care in the last two years. The vector representations of words learned by word2vec models have been shown to have semantic meanings and are useful in\n",
        "various NLP tasks. [1]\n",
        "\n",
        "He mentions that there is a need for a material that explains in detail the process of learning the parameters of word insertion models and this creates a problem among researchers who are not experts in neural networks, making it difficult to understand the mechanism of such models. [1]\n"
      ]
    },
    {
      "cell_type": "code",
      "metadata": {
        "colab": {
          "base_uri": "https://localhost:8080/"
        },
        "id": "fkM8eGF-hHoH",
        "outputId": "95e91c1d-5579-4d29-e6c8-51116ebcb651"
      },
      "source": [
        "import torch\n",
        "import torch.nn as nn\n",
        "import torch.nn.functional as F\n",
        "import torch.optim as optim\n",
        "import matplotlib.pyplot as plt\n",
        "\n",
        "\n",
        "torch.manual_seed(1)"
      ],
      "execution_count": 17,
      "outputs": [
        {
          "output_type": "execute_result",
          "data": {
            "text/plain": [
              "<torch._C.Generator at 0x7f7f780d0b10>"
            ]
          },
          "metadata": {
            "tags": []
          },
          "execution_count": 17
        }
      ]
    },
    {
      "cell_type": "markdown",
      "metadata": {
        "id": "8eOPetpE1F03"
      },
      "source": [
        "The text used to train the model is observed in the following lines of code, the variable test_sentence contains a Shakespearean sonnet."
      ]
    },
    {
      "cell_type": "code",
      "metadata": {
        "colab": {
          "base_uri": "https://localhost:8080/"
        },
        "id": "5mfCJoQ6K4Oj",
        "outputId": "601fddaa-2b48-480c-d47a-420c87a2577c"
      },
      "source": [
        "CONTEXT_SIZE = 2\n",
        "EMBEDDING_DIM = 10\n",
        "# We will use Shakespeare Sonnet 2\n",
        "test_sentence = \"\"\"When forty winters shall besiege thy brow,\n",
        "And dig deep trenches in thy beauty's field,\n",
        "Thy youth's proud livery so gazed on now,\n",
        "Will be a totter'd weed of small worth held:\n",
        "Then being asked, where all thy beauty lies,\n",
        "Where all the treasure of thy lusty days;\n",
        "To say, within thine own deep sunken eyes,\n",
        "Were an all-eating shame, and thriftless praise.\n",
        "How much more praise deserv'd thy beauty's use,\n",
        "If thou couldst answer 'This fair child of mine\n",
        "Shall sum my count, and make my old excuse,'\n",
        "Proving his beauty by succession thine!\n",
        "This were to be new made when thou art old,\n",
        "And see thy blood warm when thou feel'st it cold.\"\"\".split()\n",
        "# we should tokenize the input, but we will ignore that for now\n",
        "# build a list of tuples.  Each tuple is ([ word_i-2, word_i-1 ], target word)\n",
        "trigrams = [([test_sentence[i], test_sentence[i + 1]], test_sentence[i + 2])\n",
        "            for i in range(len(test_sentence) - 2)]\n",
        "# print the first 3, just so you can see what they look like\n",
        "print(trigrams[:3])\n",
        "\n",
        "vocab = set(test_sentence)\n",
        "word_to_ix = {word: i for i, word in enumerate(vocab)}\n",
        "\n",
        "#print(word_to_ix)\n",
        "#print(vocab)\n"
      ],
      "execution_count": 18,
      "outputs": [
        {
          "output_type": "stream",
          "text": [
            "[(['When', 'forty'], 'winters'), (['forty', 'winters'], 'shall'), (['winters', 'shall'], 'besiege')]\n"
          ],
          "name": "stdout"
        }
      ]
    },
    {
      "cell_type": "markdown",
      "metadata": {
        "id": "wJoE3-mRkTV2"
      },
      "source": [
        "It is necessary to create the model, in this case the model is:\n",
        "\n",
        "\n",
        "```\n",
        "\n",
        "NGramLanguageModeler(\n",
        "  \n",
        "  (embeddings): Embedding(97, 10)\n",
        "\n",
        "  (linear1): Linear(in_features=20, out_features=128, bias=True)\n",
        "  \n",
        "  (linear2): Linear(in_features=128, out_features=97, bias=True)\n",
        "  \n",
        "  (output) : Softmax(out_features)\n",
        "\n",
        ")\n",
        "```\n",
        "\n"
      ]
    },
    {
      "cell_type": "code",
      "metadata": {
        "id": "cUmR5R7GR2mz"
      },
      "source": [
        "\n",
        "class NGramLanguageModeler(nn.Module):\n",
        "\n",
        "    def __init__(self, vocab_size, embedding_dim, context_size):\n",
        "        super(NGramLanguageModeler, self).__init__()\n",
        "        self.embeddings = nn.Embedding(vocab_size, embedding_dim)\n",
        "        self.linear1 = nn.Linear(context_size * embedding_dim, 128)\n",
        "        self.linear2 = nn.Linear(128, vocab_size)\n",
        "\n",
        "    def forward(self, inputs):\n",
        "        embeds = self.embeddings(inputs).view((1, -1))\n",
        "        out = F.relu(self.linear1(embeds))\n",
        "        out = self.linear2(out)\n",
        "        log_probs = F.log_softmax(out, dim=1)\n",
        "        return log_probs\n",
        "\n"
      ],
      "execution_count": 19,
      "outputs": []
    },
    {
      "cell_type": "markdown",
      "metadata": {
        "id": "X7x5byDbmna0"
      },
      "source": [
        "For the loss function, NLLLoss () was implemented, which is given by the equation:\n",
        "\n",
        "$ l(x,y) = \n",
        "  \\begin{cases}\n",
        "    \\sum_{n=1}^N  \\frac{1}{\\sum_{n=1}^N w_{yn}} l_n    & \\quad \\text{if }  \\text{ reduction = \"mean\";}\\\\\n",
        "    \\sum_{n=1}^N l_n & \\quad \\text{if }  \\text{reduction = \"sum\".}\n",
        "  \\end{cases} $\n",
        "\n",
        "$l_n​=−w_{yn}​x_{n,y_{n}}​​,$\n",
        "\n",
        "Where $x$ is the input $y$ the target, $w$ the weigth $N$ the bach size.\n",
        "\n",
        "The optimizer is the SGD implemented with a learning rate of 0.001\n",
        "\n"
      ]
    },
    {
      "cell_type": "code",
      "metadata": {
        "id": "SdDwhcSqSYUk"
      },
      "source": [
        "losses = []\n",
        "loss_function = nn.NLLLoss()\n",
        "model = NGramLanguageModeler(len(vocab), EMBEDDING_DIM, CONTEXT_SIZE)\n",
        "optimizer = optim.SGD(model.parameters(), lr=0.001)"
      ],
      "execution_count": 20,
      "outputs": []
    },
    {
      "cell_type": "markdown",
      "metadata": {
        "id": "G6rHiQL_59db"
      },
      "source": [
        "The following code shows the training part of the model, for this case it was done with 200 epochs "
      ]
    },
    {
      "cell_type": "code",
      "metadata": {
        "colab": {
          "base_uri": "https://localhost:8080/"
        },
        "id": "WQDheCGAKwNo",
        "outputId": "0f34f235-428d-4be0-d84c-7d193eb5af05"
      },
      "source": [
        "\n",
        "\n",
        "for epoch in range(200):\n",
        "    total_loss = 0\n",
        "    for context, target in trigrams:\n",
        "\n",
        "        # Step 1. Prepare the inputs to be passed to the model (i.e, turn the words\n",
        "        # into integer indices and wrap them in tensors)\n",
        "        context_idxs = torch.tensor([word_to_ix[w] for w in context], dtype=torch.long)\n",
        "        #print(context_idxs)\n",
        "        # Step 2. Recall that torch *accumulates* gradients. Before passing in a\n",
        "        # new instance, you need to zero out the gradients from the old\n",
        "        # instance\n",
        "        model.zero_grad()\n",
        "\n",
        "        # Step 3. Run the forward pass, getting log probabilities over next\n",
        "        # words\n",
        "        log_probs = model(context_idxs)\n",
        "\n",
        "        # Step 4. Compute your loss function. (Again, Torch wants the target\n",
        "        # word wrapped in a tensor)\n",
        "        loss = loss_function(log_probs, torch.tensor([word_to_ix[target]], dtype=torch.long))\n",
        "\n",
        "        # Step 5. Do the backward pass and update the gradient\n",
        "        loss.backward()\n",
        "        optimizer.step()\n",
        "\n",
        "        # Get the Python number from a 1-element Tensor by calling tensor.item()\n",
        "        total_loss += loss.item()\n",
        "    losses.append(total_loss)\n",
        "    print(\"epoch: {:.4f} loss: {:.4f}\".format(epoch, total_loss) )\n",
        "#print(losses)  # The loss decreased every iteration over the training data!\n",
        "#print(log_probs)"
      ],
      "execution_count": 21,
      "outputs": [
        {
          "output_type": "stream",
          "text": [
            "epoch: 0.0000 loss: 516.0957\n",
            "epoch: 1.0000 loss: 513.4349\n",
            "epoch: 2.0000 loss: 510.7922\n",
            "epoch: 3.0000 loss: 508.1663\n",
            "epoch: 4.0000 loss: 505.5560\n",
            "epoch: 5.0000 loss: 502.9590\n",
            "epoch: 6.0000 loss: 500.3748\n",
            "epoch: 7.0000 loss: 497.8039\n",
            "epoch: 8.0000 loss: 495.2439\n",
            "epoch: 9.0000 loss: 492.6925\n",
            "epoch: 10.0000 loss: 490.1492\n",
            "epoch: 11.0000 loss: 487.6129\n",
            "epoch: 12.0000 loss: 485.0840\n",
            "epoch: 13.0000 loss: 482.5613\n",
            "epoch: 14.0000 loss: 480.0432\n",
            "epoch: 15.0000 loss: 477.5299\n",
            "epoch: 16.0000 loss: 475.0205\n",
            "epoch: 17.0000 loss: 472.5144\n",
            "epoch: 18.0000 loss: 470.0109\n",
            "epoch: 19.0000 loss: 467.5111\n",
            "epoch: 20.0000 loss: 465.0145\n",
            "epoch: 21.0000 loss: 462.5181\n",
            "epoch: 22.0000 loss: 460.0218\n",
            "epoch: 23.0000 loss: 457.5247\n",
            "epoch: 24.0000 loss: 455.0257\n",
            "epoch: 25.0000 loss: 452.5263\n",
            "epoch: 26.0000 loss: 450.0269\n",
            "epoch: 27.0000 loss: 447.5255\n",
            "epoch: 28.0000 loss: 445.0231\n",
            "epoch: 29.0000 loss: 442.5187\n",
            "epoch: 30.0000 loss: 440.0131\n",
            "epoch: 31.0000 loss: 437.5036\n",
            "epoch: 32.0000 loss: 434.9894\n",
            "epoch: 33.0000 loss: 432.4724\n",
            "epoch: 34.0000 loss: 429.9514\n",
            "epoch: 35.0000 loss: 427.4239\n",
            "epoch: 36.0000 loss: 424.8929\n",
            "epoch: 37.0000 loss: 422.3574\n",
            "epoch: 38.0000 loss: 419.8161\n",
            "epoch: 39.0000 loss: 417.2683\n",
            "epoch: 40.0000 loss: 414.7147\n",
            "epoch: 41.0000 loss: 412.1544\n",
            "epoch: 42.0000 loss: 409.5874\n",
            "epoch: 43.0000 loss: 407.0169\n",
            "epoch: 44.0000 loss: 404.4398\n",
            "epoch: 45.0000 loss: 401.8579\n",
            "epoch: 46.0000 loss: 399.2699\n",
            "epoch: 47.0000 loss: 396.6744\n",
            "epoch: 48.0000 loss: 394.0720\n",
            "epoch: 49.0000 loss: 391.4616\n",
            "epoch: 50.0000 loss: 388.8413\n",
            "epoch: 51.0000 loss: 386.2137\n",
            "epoch: 52.0000 loss: 383.5749\n",
            "epoch: 53.0000 loss: 380.9285\n",
            "epoch: 54.0000 loss: 378.2738\n",
            "epoch: 55.0000 loss: 375.6106\n",
            "epoch: 56.0000 loss: 372.9393\n",
            "epoch: 57.0000 loss: 370.2587\n",
            "epoch: 58.0000 loss: 367.5696\n",
            "epoch: 59.0000 loss: 364.8715\n",
            "epoch: 60.0000 loss: 362.1647\n",
            "epoch: 61.0000 loss: 359.4493\n",
            "epoch: 62.0000 loss: 356.7265\n",
            "epoch: 63.0000 loss: 353.9948\n",
            "epoch: 64.0000 loss: 351.2551\n",
            "epoch: 65.0000 loss: 348.5065\n",
            "epoch: 66.0000 loss: 345.7521\n",
            "epoch: 67.0000 loss: 342.9925\n",
            "epoch: 68.0000 loss: 340.2259\n",
            "epoch: 69.0000 loss: 337.4535\n",
            "epoch: 70.0000 loss: 334.6745\n",
            "epoch: 71.0000 loss: 331.8901\n",
            "epoch: 72.0000 loss: 329.0994\n",
            "epoch: 73.0000 loss: 326.3024\n",
            "epoch: 74.0000 loss: 323.5020\n",
            "epoch: 75.0000 loss: 320.6979\n",
            "epoch: 76.0000 loss: 317.8888\n",
            "epoch: 77.0000 loss: 315.0757\n",
            "epoch: 78.0000 loss: 312.2582\n",
            "epoch: 79.0000 loss: 309.4371\n",
            "epoch: 80.0000 loss: 306.6135\n",
            "epoch: 81.0000 loss: 303.7898\n",
            "epoch: 82.0000 loss: 300.9639\n",
            "epoch: 83.0000 loss: 298.1379\n",
            "epoch: 84.0000 loss: 295.3125\n",
            "epoch: 85.0000 loss: 292.4859\n",
            "epoch: 86.0000 loss: 289.6610\n",
            "epoch: 87.0000 loss: 286.8359\n",
            "epoch: 88.0000 loss: 284.0149\n",
            "epoch: 89.0000 loss: 281.1938\n",
            "epoch: 90.0000 loss: 278.3769\n",
            "epoch: 91.0000 loss: 275.5614\n",
            "epoch: 92.0000 loss: 272.7506\n",
            "epoch: 93.0000 loss: 269.9459\n",
            "epoch: 94.0000 loss: 267.1477\n",
            "epoch: 95.0000 loss: 264.3544\n",
            "epoch: 96.0000 loss: 261.5704\n",
            "epoch: 97.0000 loss: 258.7924\n",
            "epoch: 98.0000 loss: 256.0203\n",
            "epoch: 99.0000 loss: 253.2564\n",
            "epoch: 100.0000 loss: 250.5032\n",
            "epoch: 101.0000 loss: 247.7568\n",
            "epoch: 102.0000 loss: 245.0229\n",
            "epoch: 103.0000 loss: 242.2971\n",
            "epoch: 104.0000 loss: 239.5827\n",
            "epoch: 105.0000 loss: 236.8798\n",
            "epoch: 106.0000 loss: 234.1881\n",
            "epoch: 107.0000 loss: 231.5090\n",
            "epoch: 108.0000 loss: 228.8406\n",
            "epoch: 109.0000 loss: 226.1853\n",
            "epoch: 110.0000 loss: 223.5423\n",
            "epoch: 111.0000 loss: 220.9124\n",
            "epoch: 112.0000 loss: 218.2971\n",
            "epoch: 113.0000 loss: 215.6943\n",
            "epoch: 114.0000 loss: 213.1054\n",
            "epoch: 115.0000 loss: 210.5319\n",
            "epoch: 116.0000 loss: 207.9739\n",
            "epoch: 117.0000 loss: 205.4328\n",
            "epoch: 118.0000 loss: 202.9046\n",
            "epoch: 119.0000 loss: 200.3949\n",
            "epoch: 120.0000 loss: 197.9016\n",
            "epoch: 121.0000 loss: 195.4228\n",
            "epoch: 122.0000 loss: 192.9625\n",
            "epoch: 123.0000 loss: 190.5196\n",
            "epoch: 124.0000 loss: 188.0927\n",
            "epoch: 125.0000 loss: 185.6861\n",
            "epoch: 126.0000 loss: 183.2958\n",
            "epoch: 127.0000 loss: 180.9244\n",
            "epoch: 128.0000 loss: 178.5705\n",
            "epoch: 129.0000 loss: 176.2366\n",
            "epoch: 130.0000 loss: 173.9220\n",
            "epoch: 131.0000 loss: 171.6275\n",
            "epoch: 132.0000 loss: 169.3506\n",
            "epoch: 133.0000 loss: 167.0957\n",
            "epoch: 134.0000 loss: 164.8607\n",
            "epoch: 135.0000 loss: 162.6439\n",
            "epoch: 136.0000 loss: 160.4499\n",
            "epoch: 137.0000 loss: 158.2748\n",
            "epoch: 138.0000 loss: 156.1215\n",
            "epoch: 139.0000 loss: 153.9902\n",
            "epoch: 140.0000 loss: 151.8791\n",
            "epoch: 141.0000 loss: 149.7895\n",
            "epoch: 142.0000 loss: 147.7238\n",
            "epoch: 143.0000 loss: 145.6783\n",
            "epoch: 144.0000 loss: 143.6549\n",
            "epoch: 145.0000 loss: 141.6544\n",
            "epoch: 146.0000 loss: 139.6732\n",
            "epoch: 147.0000 loss: 137.7171\n",
            "epoch: 148.0000 loss: 135.7808\n",
            "epoch: 149.0000 loss: 133.8689\n",
            "epoch: 150.0000 loss: 131.9774\n",
            "epoch: 151.0000 loss: 130.1109\n",
            "epoch: 152.0000 loss: 128.2684\n",
            "epoch: 153.0000 loss: 126.4464\n",
            "epoch: 154.0000 loss: 124.6509\n",
            "epoch: 155.0000 loss: 122.8762\n",
            "epoch: 156.0000 loss: 121.1242\n",
            "epoch: 157.0000 loss: 119.3956\n",
            "epoch: 158.0000 loss: 117.6891\n",
            "epoch: 159.0000 loss: 116.0061\n",
            "epoch: 160.0000 loss: 114.3456\n",
            "epoch: 161.0000 loss: 112.7085\n",
            "epoch: 162.0000 loss: 111.0947\n",
            "epoch: 163.0000 loss: 109.5029\n",
            "epoch: 164.0000 loss: 107.9353\n",
            "epoch: 165.0000 loss: 106.3899\n",
            "epoch: 166.0000 loss: 104.8681\n",
            "epoch: 167.0000 loss: 103.3683\n",
            "epoch: 168.0000 loss: 101.8913\n",
            "epoch: 169.0000 loss: 100.4357\n",
            "epoch: 170.0000 loss: 99.0017\n",
            "epoch: 171.0000 loss: 97.5911\n",
            "epoch: 172.0000 loss: 96.2022\n",
            "epoch: 173.0000 loss: 94.8330\n",
            "epoch: 174.0000 loss: 93.4858\n",
            "epoch: 175.0000 loss: 92.1608\n",
            "epoch: 176.0000 loss: 90.8567\n",
            "epoch: 177.0000 loss: 89.5728\n",
            "epoch: 178.0000 loss: 88.3100\n",
            "epoch: 179.0000 loss: 87.0691\n",
            "epoch: 180.0000 loss: 85.8461\n",
            "epoch: 181.0000 loss: 84.6437\n",
            "epoch: 182.0000 loss: 83.4621\n",
            "epoch: 183.0000 loss: 82.3003\n",
            "epoch: 184.0000 loss: 81.1565\n",
            "epoch: 185.0000 loss: 80.0332\n",
            "epoch: 186.0000 loss: 78.9285\n",
            "epoch: 187.0000 loss: 77.8424\n",
            "epoch: 188.0000 loss: 76.7753\n",
            "epoch: 189.0000 loss: 75.7266\n",
            "epoch: 190.0000 loss: 74.6951\n",
            "epoch: 191.0000 loss: 73.6817\n",
            "epoch: 192.0000 loss: 72.6861\n",
            "epoch: 193.0000 loss: 71.7078\n",
            "epoch: 194.0000 loss: 70.7464\n",
            "epoch: 195.0000 loss: 69.8014\n",
            "epoch: 196.0000 loss: 68.8735\n",
            "epoch: 197.0000 loss: 67.9612\n",
            "epoch: 198.0000 loss: 67.0653\n",
            "epoch: 199.0000 loss: 66.1853\n"
          ],
          "name": "stdout"
        }
      ]
    },
    {
      "cell_type": "markdown",
      "metadata": {
        "id": "7gEPwFTW6OUI"
      },
      "source": [
        "The figure shows the decrease in loss with respect to the seasons"
      ]
    },
    {
      "cell_type": "code",
      "metadata": {
        "colab": {
          "base_uri": "https://localhost:8080/",
          "height": 279
        },
        "id": "ebJU_YDem1GB",
        "outputId": "366e21cd-3c82-4094-d9f2-aa65c2b42d75"
      },
      "source": [
        "plt.plot(losses)\n",
        "plt.xlabel('Epoch')\n",
        "plt.ylabel('loss')\n",
        "plt.show()"
      ],
      "execution_count": 22,
      "outputs": [
        {
          "output_type": "display_data",
          "data": {
            "image/png": "[encoded data removed]",
            "text/plain": [
              "<Figure size 432x288 with 1 Axes>"
            ]
          },
          "metadata": {
            "tags": [],
            "needs_background": "light"
          }
        }
      ]
    },
    {
      "cell_type": "markdown",
      "metadata": {
        "id": "511zUAlyWV4-"
      },
      "source": [
        "References.\n",
        "\n",
        "[1]Rong, Xin. (2014). word2vec Parameter Learning Explained. \n",
        "\n",
        "[2]Robert Guthrie. (2017). Word Embeddings: Encoding Lexical Semantics. 2020, de Pytorch Sitio web: https://pytorch.org/tutorials/beginner/nlp/word_embeddings_tutorial.html"
      ]
    }
  ]
}